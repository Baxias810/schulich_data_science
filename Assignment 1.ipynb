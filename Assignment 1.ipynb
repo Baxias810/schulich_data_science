{
 "cells": [
  {
   "cell_type": "code",
   "execution_count": 629,
   "metadata": {},
   "outputs": [],
   "source": [
    "import pandas as pd"
   ]
  },
  {
   "cell_type": "code",
   "execution_count": 630,
   "metadata": {},
   "outputs": [],
   "source": [
    "df2 = pd.read_csv(r'C:\\Users\\YUCHENG WANG\\Desktop\\MBAN Summer\\MBAN6110\\Data\\sales_data.csv')"
   ]
  },
  {
   "cell_type": "code",
   "execution_count": 631,
   "metadata": {},
   "outputs": [
    {
     "data": {
      "text/html": [
       "<div>\n",
       "<style scoped>\n",
       "    .dataframe tbody tr th:only-of-type {\n",
       "        vertical-align: middle;\n",
       "    }\n",
       "\n",
       "    .dataframe tbody tr th {\n",
       "        vertical-align: top;\n",
       "    }\n",
       "\n",
       "    .dataframe thead th {\n",
       "        text-align: right;\n",
       "    }\n",
       "</style>\n",
       "<table border=\"1\" class=\"dataframe\">\n",
       "  <thead>\n",
       "    <tr style=\"text-align: right;\">\n",
       "      <th></th>\n",
       "      <th>Product</th>\n",
       "      <th>Region</th>\n",
       "      <th>Price</th>\n",
       "      <th>Units Sold</th>\n",
       "      <th>Sale Date</th>\n",
       "    </tr>\n",
       "  </thead>\n",
       "  <tbody>\n",
       "    <tr>\n",
       "      <th>0</th>\n",
       "      <td>NaN</td>\n",
       "      <td>Region_6</td>\n",
       "      <td>75.96</td>\n",
       "      <td>10.0</td>\n",
       "      <td>2022-01-01</td>\n",
       "    </tr>\n",
       "    <tr>\n",
       "      <th>1</th>\n",
       "      <td>NaN</td>\n",
       "      <td>Region_1</td>\n",
       "      <td>175.78</td>\n",
       "      <td>8.0</td>\n",
       "      <td>2022-01-02</td>\n",
       "    </tr>\n",
       "    <tr>\n",
       "      <th>2</th>\n",
       "      <td>Product_46</td>\n",
       "      <td>Region_3</td>\n",
       "      <td>20.43</td>\n",
       "      <td>12.0</td>\n",
       "      <td>2022-01-03</td>\n",
       "    </tr>\n",
       "    <tr>\n",
       "      <th>3</th>\n",
       "      <td>Product_36</td>\n",
       "      <td>Region_1</td>\n",
       "      <td>12.77</td>\n",
       "      <td>10.0</td>\n",
       "      <td>2022-01-04</td>\n",
       "    </tr>\n",
       "    <tr>\n",
       "      <th>4</th>\n",
       "      <td>Product_17</td>\n",
       "      <td>Region_6</td>\n",
       "      <td>125.69</td>\n",
       "      <td>6.0</td>\n",
       "      <td>2022-01-05</td>\n",
       "    </tr>\n",
       "    <tr>\n",
       "      <th>...</th>\n",
       "      <td>...</td>\n",
       "      <td>...</td>\n",
       "      <td>...</td>\n",
       "      <td>...</td>\n",
       "      <td>...</td>\n",
       "    </tr>\n",
       "    <tr>\n",
       "      <th>1045</th>\n",
       "      <td>Product_45</td>\n",
       "      <td>Region_7</td>\n",
       "      <td>78.69</td>\n",
       "      <td>8.0</td>\n",
       "      <td>2022-07-28</td>\n",
       "    </tr>\n",
       "    <tr>\n",
       "      <th>1046</th>\n",
       "      <td>Product_1</td>\n",
       "      <td>Region_6</td>\n",
       "      <td>NaN</td>\n",
       "      <td>8.0</td>\n",
       "      <td>2022-08-02</td>\n",
       "    </tr>\n",
       "    <tr>\n",
       "      <th>1047</th>\n",
       "      <td>Product_17</td>\n",
       "      <td>Region_2</td>\n",
       "      <td>114.37</td>\n",
       "      <td>11.0</td>\n",
       "      <td>2023-12-18</td>\n",
       "    </tr>\n",
       "    <tr>\n",
       "      <th>1048</th>\n",
       "      <td>NaN</td>\n",
       "      <td>Region_8</td>\n",
       "      <td>NaN</td>\n",
       "      <td>5.0</td>\n",
       "      <td>2023-12-27</td>\n",
       "    </tr>\n",
       "    <tr>\n",
       "      <th>1049</th>\n",
       "      <td>Product_16</td>\n",
       "      <td>Region_2</td>\n",
       "      <td>69.30</td>\n",
       "      <td>8.0</td>\n",
       "      <td>2024-02-23</td>\n",
       "    </tr>\n",
       "  </tbody>\n",
       "</table>\n",
       "<p>1050 rows × 5 columns</p>\n",
       "</div>"
      ],
      "text/plain": [
       "         Product    Region   Price  Units Sold   Sale Date\n",
       "0            NaN  Region_6   75.96        10.0  2022-01-01\n",
       "1            NaN  Region_1  175.78         8.0  2022-01-02\n",
       "2     Product_46  Region_3   20.43        12.0  2022-01-03\n",
       "3     Product_36  Region_1   12.77        10.0  2022-01-04\n",
       "4     Product_17  Region_6  125.69         6.0  2022-01-05\n",
       "...          ...       ...     ...         ...         ...\n",
       "1045  Product_45  Region_7   78.69         8.0  2022-07-28\n",
       "1046   Product_1  Region_6     NaN         8.0  2022-08-02\n",
       "1047  Product_17  Region_2  114.37        11.0  2023-12-18\n",
       "1048         NaN  Region_8     NaN         5.0  2023-12-27\n",
       "1049  Product_16  Region_2   69.30         8.0  2024-02-23\n",
       "\n",
       "[1050 rows x 5 columns]"
      ]
     },
     "execution_count": 631,
     "metadata": {},
     "output_type": "execute_result"
    }
   ],
   "source": [
    "df2"
   ]
  },
  {
   "cell_type": "code",
   "execution_count": 632,
   "metadata": {},
   "outputs": [
    {
     "name": "stdout",
     "output_type": "stream",
     "text": [
      "<class 'pandas.core.frame.DataFrame'>\n",
      "RangeIndex: 1050 entries, 0 to 1049\n",
      "Data columns (total 5 columns):\n",
      " #   Column      Non-Null Count  Dtype  \n",
      "---  ------      --------------  -----  \n",
      " 0   Product     947 non-null    object \n",
      " 1   Region      946 non-null    object \n",
      " 2   Price       945 non-null    float64\n",
      " 3   Units Sold  946 non-null    float64\n",
      " 4   Sale Date   1050 non-null   object \n",
      "dtypes: float64(2), object(3)\n",
      "memory usage: 41.1+ KB\n"
     ]
    }
   ],
   "source": [
    "df2.info()"
   ]
  },
  {
   "cell_type": "code",
   "execution_count": 633,
   "metadata": {},
   "outputs": [
    {
     "data": {
      "text/html": [
       "<div>\n",
       "<style scoped>\n",
       "    .dataframe tbody tr th:only-of-type {\n",
       "        vertical-align: middle;\n",
       "    }\n",
       "\n",
       "    .dataframe tbody tr th {\n",
       "        vertical-align: top;\n",
       "    }\n",
       "\n",
       "    .dataframe thead th {\n",
       "        text-align: right;\n",
       "    }\n",
       "</style>\n",
       "<table border=\"1\" class=\"dataframe\">\n",
       "  <thead>\n",
       "    <tr style=\"text-align: right;\">\n",
       "      <th></th>\n",
       "      <th>Product</th>\n",
       "      <th>Region</th>\n",
       "      <th>Price</th>\n",
       "      <th>Units Sold</th>\n",
       "      <th>Sale Date</th>\n",
       "    </tr>\n",
       "  </thead>\n",
       "  <tbody>\n",
       "    <tr>\n",
       "      <th>count</th>\n",
       "      <td>947</td>\n",
       "      <td>946</td>\n",
       "      <td>945.000000</td>\n",
       "      <td>946.000000</td>\n",
       "      <td>1050</td>\n",
       "    </tr>\n",
       "    <tr>\n",
       "      <th>unique</th>\n",
       "      <td>50</td>\n",
       "      <td>10</td>\n",
       "      <td>NaN</td>\n",
       "      <td>NaN</td>\n",
       "      <td>1000</td>\n",
       "    </tr>\n",
       "    <tr>\n",
       "      <th>top</th>\n",
       "      <td>Product_45</td>\n",
       "      <td>Region_9</td>\n",
       "      <td>NaN</td>\n",
       "      <td>NaN</td>\n",
       "      <td>2022-07-28</td>\n",
       "    </tr>\n",
       "    <tr>\n",
       "      <th>freq</th>\n",
       "      <td>28</td>\n",
       "      <td>109</td>\n",
       "      <td>NaN</td>\n",
       "      <td>NaN</td>\n",
       "      <td>2</td>\n",
       "    </tr>\n",
       "    <tr>\n",
       "      <th>mean</th>\n",
       "      <td>NaN</td>\n",
       "      <td>NaN</td>\n",
       "      <td>107.598688</td>\n",
       "      <td>10.048626</td>\n",
       "      <td>NaN</td>\n",
       "    </tr>\n",
       "    <tr>\n",
       "      <th>std</th>\n",
       "      <td>NaN</td>\n",
       "      <td>NaN</td>\n",
       "      <td>124.020322</td>\n",
       "      <td>3.172261</td>\n",
       "      <td>NaN</td>\n",
       "    </tr>\n",
       "    <tr>\n",
       "      <th>min</th>\n",
       "      <td>NaN</td>\n",
       "      <td>NaN</td>\n",
       "      <td>0.200000</td>\n",
       "      <td>2.000000</td>\n",
       "      <td>NaN</td>\n",
       "    </tr>\n",
       "    <tr>\n",
       "      <th>25%</th>\n",
       "      <td>NaN</td>\n",
       "      <td>NaN</td>\n",
       "      <td>29.430000</td>\n",
       "      <td>8.000000</td>\n",
       "      <td>NaN</td>\n",
       "    </tr>\n",
       "    <tr>\n",
       "      <th>50%</th>\n",
       "      <td>NaN</td>\n",
       "      <td>NaN</td>\n",
       "      <td>78.130000</td>\n",
       "      <td>10.000000</td>\n",
       "      <td>NaN</td>\n",
       "    </tr>\n",
       "    <tr>\n",
       "      <th>75%</th>\n",
       "      <td>NaN</td>\n",
       "      <td>NaN</td>\n",
       "      <td>142.570000</td>\n",
       "      <td>12.000000</td>\n",
       "      <td>NaN</td>\n",
       "    </tr>\n",
       "    <tr>\n",
       "      <th>max</th>\n",
       "      <td>NaN</td>\n",
       "      <td>NaN</td>\n",
       "      <td>2143.300000</td>\n",
       "      <td>22.000000</td>\n",
       "      <td>NaN</td>\n",
       "    </tr>\n",
       "  </tbody>\n",
       "</table>\n",
       "</div>"
      ],
      "text/plain": [
       "           Product    Region        Price  Units Sold   Sale Date\n",
       "count          947       946   945.000000  946.000000        1050\n",
       "unique          50        10          NaN         NaN        1000\n",
       "top     Product_45  Region_9          NaN         NaN  2022-07-28\n",
       "freq            28       109          NaN         NaN           2\n",
       "mean           NaN       NaN   107.598688   10.048626         NaN\n",
       "std            NaN       NaN   124.020322    3.172261         NaN\n",
       "min            NaN       NaN     0.200000    2.000000         NaN\n",
       "25%            NaN       NaN    29.430000    8.000000         NaN\n",
       "50%            NaN       NaN    78.130000   10.000000         NaN\n",
       "75%            NaN       NaN   142.570000   12.000000         NaN\n",
       "max            NaN       NaN  2143.300000   22.000000         NaN"
      ]
     },
     "execution_count": 633,
     "metadata": {},
     "output_type": "execute_result"
    }
   ],
   "source": [
    "df2.describe(include='all')"
   ]
  },
  {
   "cell_type": "code",
   "execution_count": null,
   "metadata": {},
   "outputs": [],
   "source": [
    "#I find some data is missing is this dataset,using df2.isnull() to identifty whether the data is really missing."
   ]
  },
  {
   "cell_type": "code",
   "execution_count": null,
   "metadata": {},
   "outputs": [],
   "source": [
    "#Then, I try to draw the histgram and boxplot to identify whether there's any outlier in this dataset, if it does, I will drop it."
   ]
  },
  {
   "cell_type": "code",
   "execution_count": 634,
   "metadata": {},
   "outputs": [],
   "source": [
    "import seaborn as sns"
   ]
  },
  {
   "cell_type": "code",
   "execution_count": 635,
   "metadata": {},
   "outputs": [
    {
     "data": {
      "text/plain": [
       "<Axes: xlabel='Price', ylabel='Count'>"
      ]
     },
     "execution_count": 635,
     "metadata": {},
     "output_type": "execute_result"
    },
    {
     "data": {
      "image/png": "[encoded data removed]",
      "text/plain": [
       "<Figure size 640x480 with 1 Axes>"
      ]
     },
     "metadata": {},
     "output_type": "display_data"
    }
   ],
   "source": [
    "sns.histplot(df2['Price'])"
   ]
  },
  {
   "cell_type": "code",
   "execution_count": 636,
   "metadata": {},
   "outputs": [
    {
     "data": {
      "text/plain": [
       "<Axes: >"
      ]
     },
     "execution_count": 636,
     "metadata": {},
     "output_type": "execute_result"
    },
    {
     "data": {
      "image/png": "[encoded data removed]",
      "text/plain": [
       "<Figure size 640x480 with 1 Axes>"
      ]
     },
     "metadata": {},
     "output_type": "display_data"
    }
   ],
   "source": [
    "sns.boxplot(df2['Price'])"
   ]
  },
  {
   "cell_type": "code",
   "execution_count": null,
   "metadata": {},
   "outputs": [],
   "source": [
    "#here, form the graph we can see that there's an obviously outlier which price is larger than 2000, I will find it and drop it"
   ]
  },
  {
   "cell_type": "code",
   "execution_count": 637,
   "metadata": {},
   "outputs": [
    {
     "data": {
      "text/html": [
       "<div>\n",
       "<style scoped>\n",
       "    .dataframe tbody tr th:only-of-type {\n",
       "        vertical-align: middle;\n",
       "    }\n",
       "\n",
       "    .dataframe tbody tr th {\n",
       "        vertical-align: top;\n",
       "    }\n",
       "\n",
       "    .dataframe thead th {\n",
       "        text-align: right;\n",
       "    }\n",
       "</style>\n",
       "<table border=\"1\" class=\"dataframe\">\n",
       "  <thead>\n",
       "    <tr style=\"text-align: right;\">\n",
       "      <th></th>\n",
       "      <th>Product</th>\n",
       "      <th>Region</th>\n",
       "      <th>Price</th>\n",
       "      <th>Units Sold</th>\n",
       "      <th>Sale Date</th>\n",
       "    </tr>\n",
       "  </thead>\n",
       "  <tbody>\n",
       "    <tr>\n",
       "      <th>969</th>\n",
       "      <td>Product_15</td>\n",
       "      <td>Region_8</td>\n",
       "      <td>2143.3</td>\n",
       "      <td>5.0</td>\n",
       "      <td>2024-08-27</td>\n",
       "    </tr>\n",
       "  </tbody>\n",
       "</table>\n",
       "</div>"
      ],
      "text/plain": [
       "        Product    Region   Price  Units Sold   Sale Date\n",
       "969  Product_15  Region_8  2143.3         5.0  2024-08-27"
      ]
     },
     "execution_count": 637,
     "metadata": {},
     "output_type": "execute_result"
    }
   ],
   "source": [
    "df2[df2['Price'] >= 2000]"
   ]
  },
  {
   "cell_type": "code",
   "execution_count": 638,
   "metadata": {},
   "outputs": [],
   "source": [
    "df2.drop(969, axis=0, inplace=True )"
   ]
  },
  {
   "cell_type": "code",
   "execution_count": 639,
   "metadata": {},
   "outputs": [
    {
     "data": {
      "text/plain": [
       "<Axes: >"
      ]
     },
     "execution_count": 639,
     "metadata": {},
     "output_type": "execute_result"
    },
    {
     "data": {
      "image/png": "[encoded data removed]",
      "text/plain": [
       "<Figure size 640x480 with 1 Axes>"
      ]
     },
     "metadata": {},
     "output_type": "display_data"
    }
   ],
   "source": [
    "sns.boxplot(df2['Price'])"
   ]
  },
  {
   "cell_type": "code",
   "execution_count": 640,
   "metadata": {},
   "outputs": [
    {
     "data": {
      "text/plain": [
       "<Axes: xlabel='Price', ylabel='Count'>"
      ]
     },
     "execution_count": 640,
     "metadata": {},
     "output_type": "execute_result"
    },
    {
     "data": {
      "image/png": "[encoded data removed]",
      "text/plain": [
       "<Figure size 640x480 with 1 Axes>"
      ]
     },
     "metadata": {},
     "output_type": "display_data"
    }
   ],
   "source": [
    "sns.histplot(df2['Price'])"
   ]
  },
  {
   "cell_type": "code",
   "execution_count": 642,
   "metadata": {},
   "outputs": [
    {
     "data": {
      "text/html": [
       "<div>\n",
       "<style scoped>\n",
       "    .dataframe tbody tr th:only-of-type {\n",
       "        vertical-align: middle;\n",
       "    }\n",
       "\n",
       "    .dataframe tbody tr th {\n",
       "        vertical-align: top;\n",
       "    }\n",
       "\n",
       "    .dataframe thead th {\n",
       "        text-align: right;\n",
       "    }\n",
       "</style>\n",
       "<table border=\"1\" class=\"dataframe\">\n",
       "  <thead>\n",
       "    <tr style=\"text-align: right;\">\n",
       "      <th></th>\n",
       "      <th>Product</th>\n",
       "      <th>Region</th>\n",
       "      <th>Price</th>\n",
       "      <th>Units Sold</th>\n",
       "      <th>Sale Date</th>\n",
       "    </tr>\n",
       "  </thead>\n",
       "  <tbody>\n",
       "    <tr>\n",
       "      <th>0</th>\n",
       "      <td>True</td>\n",
       "      <td>False</td>\n",
       "      <td>False</td>\n",
       "      <td>False</td>\n",
       "      <td>False</td>\n",
       "    </tr>\n",
       "    <tr>\n",
       "      <th>1</th>\n",
       "      <td>True</td>\n",
       "      <td>False</td>\n",
       "      <td>False</td>\n",
       "      <td>False</td>\n",
       "      <td>False</td>\n",
       "    </tr>\n",
       "    <tr>\n",
       "      <th>2</th>\n",
       "      <td>False</td>\n",
       "      <td>False</td>\n",
       "      <td>False</td>\n",
       "      <td>False</td>\n",
       "      <td>False</td>\n",
       "    </tr>\n",
       "    <tr>\n",
       "      <th>3</th>\n",
       "      <td>False</td>\n",
       "      <td>False</td>\n",
       "      <td>False</td>\n",
       "      <td>False</td>\n",
       "      <td>False</td>\n",
       "    </tr>\n",
       "    <tr>\n",
       "      <th>4</th>\n",
       "      <td>False</td>\n",
       "      <td>False</td>\n",
       "      <td>False</td>\n",
       "      <td>False</td>\n",
       "      <td>False</td>\n",
       "    </tr>\n",
       "    <tr>\n",
       "      <th>...</th>\n",
       "      <td>...</td>\n",
       "      <td>...</td>\n",
       "      <td>...</td>\n",
       "      <td>...</td>\n",
       "      <td>...</td>\n",
       "    </tr>\n",
       "    <tr>\n",
       "      <th>1045</th>\n",
       "      <td>False</td>\n",
       "      <td>False</td>\n",
       "      <td>False</td>\n",
       "      <td>False</td>\n",
       "      <td>False</td>\n",
       "    </tr>\n",
       "    <tr>\n",
       "      <th>1046</th>\n",
       "      <td>False</td>\n",
       "      <td>False</td>\n",
       "      <td>True</td>\n",
       "      <td>False</td>\n",
       "      <td>False</td>\n",
       "    </tr>\n",
       "    <tr>\n",
       "      <th>1047</th>\n",
       "      <td>False</td>\n",
       "      <td>False</td>\n",
       "      <td>False</td>\n",
       "      <td>False</td>\n",
       "      <td>False</td>\n",
       "    </tr>\n",
       "    <tr>\n",
       "      <th>1048</th>\n",
       "      <td>True</td>\n",
       "      <td>False</td>\n",
       "      <td>True</td>\n",
       "      <td>False</td>\n",
       "      <td>False</td>\n",
       "    </tr>\n",
       "    <tr>\n",
       "      <th>1049</th>\n",
       "      <td>False</td>\n",
       "      <td>False</td>\n",
       "      <td>False</td>\n",
       "      <td>False</td>\n",
       "      <td>False</td>\n",
       "    </tr>\n",
       "  </tbody>\n",
       "</table>\n",
       "<p>1049 rows × 5 columns</p>\n",
       "</div>"
      ],
      "text/plain": [
       "      Product  Region  Price  Units Sold  Sale Date\n",
       "0        True   False  False       False      False\n",
       "1        True   False  False       False      False\n",
       "2       False   False  False       False      False\n",
       "3       False   False  False       False      False\n",
       "4       False   False  False       False      False\n",
       "...       ...     ...    ...         ...        ...\n",
       "1045    False   False  False       False      False\n",
       "1046    False   False   True       False      False\n",
       "1047    False   False  False       False      False\n",
       "1048     True   False   True       False      False\n",
       "1049    False   False  False       False      False\n",
       "\n",
       "[1049 rows x 5 columns]"
      ]
     },
     "execution_count": 642,
     "metadata": {},
     "output_type": "execute_result"
    }
   ],
   "source": [
    "df2.isnull()"
   ]
  },
  {
   "cell_type": "code",
   "execution_count": 643,
   "metadata": {},
   "outputs": [],
   "source": [
    "# Above shows there are several missings in this data set, now I wanna know the exact total amount of missing values this dataset. Amd try to fill the missing value\n",
    "# with 'Other' in variable 'Product' and 'Region'"
   ]
  },
  {
   "cell_type": "code",
   "execution_count": 644,
   "metadata": {},
   "outputs": [],
   "source": [
    "df2['Product'] = df2['Product'].fillna('Other')"
   ]
  },
  {
   "cell_type": "code",
   "execution_count": 645,
   "metadata": {},
   "outputs": [],
   "source": [
    "df2['Region'] = df2['Region'].fillna('Other')"
   ]
  },
  {
   "cell_type": "code",
   "execution_count": 646,
   "metadata": {},
   "outputs": [
    {
     "data": {
      "text/plain": [
       "Product         0\n",
       "Region          0\n",
       "Price         105\n",
       "Units Sold    104\n",
       "Sale Date       0\n",
       "dtype: int64"
      ]
     },
     "execution_count": 646,
     "metadata": {},
     "output_type": "execute_result"
    }
   ],
   "source": [
    "df2.isnull().sum()"
   ]
  },
  {
   "cell_type": "code",
   "execution_count": null,
   "metadata": {},
   "outputs": [],
   "source": [
    "# Now, the missing value in variable 'Product' and 'Region' was filled by 'Other',the null item here is all '0'. However, we still can see that there's\n",
    "# about 105 unit missing data in 'Price' and 'Unis Sold',which is very important to our following analysis."
   ]
  },
  {
   "cell_type": "code",
   "execution_count": 647,
   "metadata": {},
   "outputs": [],
   "source": [
    "# Then I will drop the potential duplicates in this dataset before I start to fill the remaining two variables\n",
    "df2.drop_duplicates(inplace=True)"
   ]
  },
  {
   "cell_type": "code",
   "execution_count": 648,
   "metadata": {},
   "outputs": [
    {
     "data": {
      "text/plain": [
       "Product\n",
       "Other         103.991348\n",
       "Product_1      89.652857\n",
       "Product_10     61.264286\n",
       "Product_11     75.495385\n",
       "Product_12     92.660000\n",
       "Product_13     88.530000\n",
       "Product_14    127.552778\n",
       "Product_15     86.412857\n",
       "Product_16    104.196471\n",
       "Product_17     96.859412\n",
       "Product_18     67.986154\n",
       "Product_19    123.740000\n",
       "Product_2     133.226875\n",
       "Product_20    143.814167\n",
       "Product_21     91.728667\n",
       "Product_22    114.403333\n",
       "Product_23    106.473000\n",
       "Product_24    109.566923\n",
       "Product_25    110.250000\n",
       "Product_26    192.085455\n",
       "Product_27     78.409286\n",
       "Product_28     83.395333\n",
       "Product_29    135.385789\n",
       "Product_3      59.752000\n",
       "Product_30    124.420000\n",
       "Product_31    145.119524\n",
       "Product_32     90.475000\n",
       "Product_33     83.993750\n",
       "Product_34    133.865000\n",
       "Product_35    138.106250\n",
       "Product_36     80.066667\n",
       "Product_37     83.212222\n",
       "Product_38     73.692308\n",
       "Product_39    114.698889\n",
       "Product_4      83.006842\n",
       "Product_40    150.797000\n",
       "Product_41    154.682000\n",
       "Product_42     76.066875\n",
       "Product_43     62.914000\n",
       "Product_44     96.577857\n",
       "Product_45    114.275417\n",
       "Product_46     91.196250\n",
       "Product_47    112.509167\n",
       "Product_48    103.952000\n",
       "Product_49    155.083846\n",
       "Product_5      72.829630\n",
       "Product_50    113.543333\n",
       "Product_6      74.118000\n",
       "Product_7     137.210714\n",
       "Product_8      90.796429\n",
       "Product_9      79.339286\n",
       "Name: Price, dtype: float64"
      ]
     },
     "execution_count": 648,
     "metadata": {},
     "output_type": "execute_result"
    }
   ],
   "source": [
    "# This step, I deicide to fill the mean price of each product into the null item.\n",
    "df2.groupby('Product')['Price'].mean()"
   ]
  },
  {
   "cell_type": "code",
   "execution_count": 756,
   "metadata": {},
   "outputs": [],
   "source": [
    "df2['Price'] = df2['Price'].fillna(df2.groupby('Product')['Price'].transform('mean'))"
   ]
  },
  {
   "cell_type": "code",
   "execution_count": 757,
   "metadata": {},
   "outputs": [
    {
     "data": {
      "text/plain": [
       "0       75.96\n",
       "1      175.78\n",
       "2       20.43\n",
       "3       12.77\n",
       "4      125.69\n",
       "        ...  \n",
       "995     31.83\n",
       "996     46.19\n",
       "997    311.80\n",
       "998     43.44\n",
       "999     56.95\n",
       "Name: Price, Length: 999, dtype: float64"
      ]
     },
     "execution_count": 757,
     "metadata": {},
     "output_type": "execute_result"
    }
   ],
   "source": [
    "df2['Price']"
   ]
  },
  {
   "cell_type": "code",
   "execution_count": 758,
   "metadata": {},
   "outputs": [
    {
     "name": "stdout",
     "output_type": "stream",
     "text": [
      "<class 'pandas.core.series.Series'>\n",
      "Index: 999 entries, 0 to 999\n",
      "Series name: Price\n",
      "Non-Null Count  Dtype  \n",
      "--------------  -----  \n",
      "999 non-null    float64\n",
      "dtypes: float64(1)\n",
      "memory usage: 15.6 KB\n"
     ]
    }
   ],
   "source": [
    "df2['Price'].info()"
   ]
  },
  {
   "cell_type": "code",
   "execution_count": 761,
   "metadata": {},
   "outputs": [
    {
     "data": {
      "text/plain": [
       "Product\n",
       "Other          9.796607\n",
       "Product_1      9.919726\n",
       "Product_10    11.192088\n",
       "Product_11    10.949547\n",
       "Product_12    10.692308\n",
       "Product_13    10.547785\n",
       "Product_14    10.639307\n",
       "Product_15    10.952602\n",
       "Product_16    10.277778\n",
       "Product_17     9.837412\n",
       "Product_18    10.158589\n",
       "Product_19    10.000000\n",
       "Product_2     10.586675\n",
       "Product_20    10.209789\n",
       "Product_21    11.214683\n",
       "Product_22     9.881350\n",
       "Product_23    10.292706\n",
       "Product_24    10.196677\n",
       "Product_25     9.416083\n",
       "Product_26     9.916667\n",
       "Product_27    10.759177\n",
       "Product_28    10.379588\n",
       "Product_29     9.811012\n",
       "Product_3     11.636364\n",
       "Product_30    10.755090\n",
       "Product_31     9.952381\n",
       "Product_32     9.062500\n",
       "Product_33     9.150867\n",
       "Product_34    10.239613\n",
       "Product_35     9.793338\n",
       "Product_36     9.011295\n",
       "Product_37     9.635443\n",
       "Product_38     9.401557\n",
       "Product_39     8.508157\n",
       "Product_4     10.568409\n",
       "Product_40     9.207341\n",
       "Product_41    10.352941\n",
       "Product_42     9.541772\n",
       "Product_43    10.655366\n",
       "Product_44     9.623347\n",
       "Product_45     9.140556\n",
       "Product_46     9.845969\n",
       "Product_47     9.626679\n",
       "Product_48    10.900000\n",
       "Product_49     9.769231\n",
       "Product_5      9.301446\n",
       "Product_50    11.483182\n",
       "Product_6      8.718838\n",
       "Product_7     11.008637\n",
       "Product_8     10.939059\n",
       "Product_9     10.876455\n",
       "Name: Units Sold, dtype: float64"
      ]
     },
     "execution_count": 761,
     "metadata": {},
     "output_type": "execute_result"
    }
   ],
   "source": [
    "# Agian, I repeat the procedure I did in the 'Price' step that I fill the null item with mean unit of each product in the 'Unit Sold' column, the result indiacted that \n",
    "# all the null item was been filled\n",
    "df2.groupby('Product')['Units Sold'].mean()"
   ]
  },
  {
   "cell_type": "code",
   "execution_count": 762,
   "metadata": {},
   "outputs": [],
   "source": [
    "df2['Units Sold'] = df2['Units Sold'].fillna(df2['Units Sold'].mean())"
   ]
  },
  {
   "cell_type": "code",
   "execution_count": 763,
   "metadata": {},
   "outputs": [
    {
     "data": {
      "text/plain": [
       "0      10.0\n",
       "1       8.0\n",
       "2      12.0\n",
       "3      10.0\n",
       "4       6.0\n",
       "       ... \n",
       "995    13.0\n",
       "996     9.0\n",
       "997    13.0\n",
       "998    15.0\n",
       "999     6.0\n",
       "Name: Units Sold, Length: 999, dtype: float64"
      ]
     },
     "execution_count": 763,
     "metadata": {},
     "output_type": "execute_result"
    }
   ],
   "source": [
    "df2['Units Sold']"
   ]
  },
  {
   "cell_type": "code",
   "execution_count": 764,
   "metadata": {},
   "outputs": [
    {
     "name": "stdout",
     "output_type": "stream",
     "text": [
      "<class 'pandas.core.series.Series'>\n",
      "Index: 999 entries, 0 to 999\n",
      "Series name: Units Sold\n",
      "Non-Null Count  Dtype  \n",
      "--------------  -----  \n",
      "999 non-null    float64\n",
      "dtypes: float64(1)\n",
      "memory usage: 15.6 KB\n"
     ]
    }
   ],
   "source": [
    "df2['Units Sold'].info()"
   ]
  },
  {
   "cell_type": "code",
   "execution_count": null,
   "metadata": {},
   "outputs": [],
   "source": [
    "# For the following analysis, I create a new column called 'Sales' which equal to 'Price' * 'Units Sold' for each column"
   ]
  },
  {
   "cell_type": "code",
   "execution_count": 661,
   "metadata": {},
   "outputs": [],
   "source": [
    "df2['Sales'] = df2['Price'] * df2['Units Sold']"
   ]
  },
  {
   "cell_type": "code",
   "execution_count": 662,
   "metadata": {},
   "outputs": [
    {
     "name": "stdout",
     "output_type": "stream",
     "text": [
      "<class 'pandas.core.frame.DataFrame'>\n",
      "Index: 999 entries, 0 to 999\n",
      "Data columns (total 6 columns):\n",
      " #   Column      Non-Null Count  Dtype  \n",
      "---  ------      --------------  -----  \n",
      " 0   Product     999 non-null    object \n",
      " 1   Region      999 non-null    object \n",
      " 2   Price       999 non-null    float64\n",
      " 3   Units Sold  999 non-null    float64\n",
      " 4   Sale Date   999 non-null    object \n",
      " 5   Sales       999 non-null    float64\n",
      "dtypes: float64(3), object(3)\n",
      "memory usage: 54.6+ KB\n"
     ]
    }
   ],
   "source": [
    "df2.info()"
   ]
  },
  {
   "cell_type": "code",
   "execution_count": 663,
   "metadata": {},
   "outputs": [
    {
     "data": {
      "text/html": [
       "<div>\n",
       "<style scoped>\n",
       "    .dataframe tbody tr th:only-of-type {\n",
       "        vertical-align: middle;\n",
       "    }\n",
       "\n",
       "    .dataframe tbody tr th {\n",
       "        vertical-align: top;\n",
       "    }\n",
       "\n",
       "    .dataframe thead th {\n",
       "        text-align: right;\n",
       "    }\n",
       "</style>\n",
       "<table border=\"1\" class=\"dataframe\">\n",
       "  <thead>\n",
       "    <tr style=\"text-align: right;\">\n",
       "      <th></th>\n",
       "      <th>Product</th>\n",
       "      <th>Region</th>\n",
       "      <th>Price</th>\n",
       "      <th>Units Sold</th>\n",
       "      <th>Sale Date</th>\n",
       "      <th>Sales</th>\n",
       "    </tr>\n",
       "  </thead>\n",
       "  <tbody>\n",
       "    <tr>\n",
       "      <th>count</th>\n",
       "      <td>999</td>\n",
       "      <td>999</td>\n",
       "      <td>999.000000</td>\n",
       "      <td>999.000000</td>\n",
       "      <td>999</td>\n",
       "      <td>999.000000</td>\n",
       "    </tr>\n",
       "    <tr>\n",
       "      <th>unique</th>\n",
       "      <td>51</td>\n",
       "      <td>11</td>\n",
       "      <td>NaN</td>\n",
       "      <td>NaN</td>\n",
       "      <td>999</td>\n",
       "      <td>NaN</td>\n",
       "    </tr>\n",
       "    <tr>\n",
       "      <th>top</th>\n",
       "      <td>Other</td>\n",
       "      <td>Region_9</td>\n",
       "      <td>NaN</td>\n",
       "      <td>NaN</td>\n",
       "      <td>2022-01-01</td>\n",
       "      <td>NaN</td>\n",
       "    </tr>\n",
       "    <tr>\n",
       "      <th>freq</th>\n",
       "      <td>100</td>\n",
       "      <td>104</td>\n",
       "      <td>NaN</td>\n",
       "      <td>NaN</td>\n",
       "      <td>1</td>\n",
       "      <td>NaN</td>\n",
       "    </tr>\n",
       "    <tr>\n",
       "      <th>mean</th>\n",
       "      <td>NaN</td>\n",
       "      <td>NaN</td>\n",
       "      <td>103.927405</td>\n",
       "      <td>10.073415</td>\n",
       "      <td>NaN</td>\n",
       "      <td>1033.750653</td>\n",
       "    </tr>\n",
       "    <tr>\n",
       "      <th>std</th>\n",
       "      <td>NaN</td>\n",
       "      <td>NaN</td>\n",
       "      <td>98.540890</td>\n",
       "      <td>3.000861</td>\n",
       "      <td>NaN</td>\n",
       "      <td>1048.990200</td>\n",
       "    </tr>\n",
       "    <tr>\n",
       "      <th>min</th>\n",
       "      <td>NaN</td>\n",
       "      <td>NaN</td>\n",
       "      <td>0.200000</td>\n",
       "      <td>2.000000</td>\n",
       "      <td>NaN</td>\n",
       "      <td>0.990000</td>\n",
       "    </tr>\n",
       "    <tr>\n",
       "      <th>25%</th>\n",
       "      <td>NaN</td>\n",
       "      <td>NaN</td>\n",
       "      <td>33.650000</td>\n",
       "      <td>8.000000</td>\n",
       "      <td>NaN</td>\n",
       "      <td>299.000000</td>\n",
       "    </tr>\n",
       "    <tr>\n",
       "      <th>50%</th>\n",
       "      <td>NaN</td>\n",
       "      <td>NaN</td>\n",
       "      <td>83.395333</td>\n",
       "      <td>10.000000</td>\n",
       "      <td>NaN</td>\n",
       "      <td>772.622857</td>\n",
       "    </tr>\n",
       "    <tr>\n",
       "      <th>75%</th>\n",
       "      <td>NaN</td>\n",
       "      <td>NaN</td>\n",
       "      <td>135.835000</td>\n",
       "      <td>12.000000</td>\n",
       "      <td>NaN</td>\n",
       "      <td>1370.945000</td>\n",
       "    </tr>\n",
       "    <tr>\n",
       "      <th>max</th>\n",
       "      <td>NaN</td>\n",
       "      <td>NaN</td>\n",
       "      <td>713.290000</td>\n",
       "      <td>22.000000</td>\n",
       "      <td>NaN</td>\n",
       "      <td>7607.210000</td>\n",
       "    </tr>\n",
       "  </tbody>\n",
       "</table>\n",
       "</div>"
      ],
      "text/plain": [
       "       Product    Region       Price  Units Sold   Sale Date        Sales\n",
       "count      999       999  999.000000  999.000000         999   999.000000\n",
       "unique      51        11         NaN         NaN         999          NaN\n",
       "top      Other  Region_9         NaN         NaN  2022-01-01          NaN\n",
       "freq       100       104         NaN         NaN           1          NaN\n",
       "mean       NaN       NaN  103.927405   10.073415         NaN  1033.750653\n",
       "std        NaN       NaN   98.540890    3.000861         NaN  1048.990200\n",
       "min        NaN       NaN    0.200000    2.000000         NaN     0.990000\n",
       "25%        NaN       NaN   33.650000    8.000000         NaN   299.000000\n",
       "50%        NaN       NaN   83.395333   10.000000         NaN   772.622857\n",
       "75%        NaN       NaN  135.835000   12.000000         NaN  1370.945000\n",
       "max        NaN       NaN  713.290000   22.000000         NaN  7607.210000"
      ]
     },
     "execution_count": 663,
     "metadata": {},
     "output_type": "execute_result"
    }
   ],
   "source": [
    "df2.describe(include='all')"
   ]
  },
  {
   "cell_type": "code",
   "execution_count": 664,
   "metadata": {},
   "outputs": [],
   "source": [
    "# copy a new dataset from df2 which only inculde the variable that I need \n",
    "df3=df2[['Product','Region','Units Sold','Sales']]"
   ]
  },
  {
   "cell_type": "code",
   "execution_count": 665,
   "metadata": {},
   "outputs": [],
   "source": [
    "# sort the region in an ascending order\n",
    "region_sort = df3.sort_values('Region', ascending=True)"
   ]
  },
  {
   "cell_type": "code",
   "execution_count": 666,
   "metadata": {},
   "outputs": [],
   "source": [
    "# Then based on the sorted dataset sort again in 'Sales' in a descending order\n",
    "region_sales_sort= region_sort.sort_values('Sales', ascending=False)"
   ]
  },
  {
   "cell_type": "code",
   "execution_count": 667,
   "metadata": {},
   "outputs": [
    {
     "name": "stdout",
     "output_type": "stream",
     "text": [
      "        Product    Region  Units Sold        Sales\n",
      "437  Product_26  Region_8   13.000000  7607.210000\n",
      "814  Product_26  Region_2   12.000000  7483.200000\n",
      "853  Product_41  Region_1   10.000000  7132.900000\n",
      "119  Product_35     Other   16.000000  6420.960000\n",
      "789   Product_7     Other   10.073415  6103.179889\n",
      "..          ...       ...         ...          ...\n",
      "486       Other  Region_2    8.000000     4.640000\n",
      "456  Product_26  Region_4   14.000000     2.800000\n",
      "347   Product_9  Region_5    9.000000     2.790000\n",
      "201  Product_24  Region_4   10.000000     2.200000\n",
      "397  Product_10  Region_9    3.000000     0.990000\n",
      "\n",
      "[999 rows x 4 columns]\n"
     ]
    }
   ],
   "source": [
    "print(region_sales_sort)"
   ]
  },
  {
   "attachments": {},
   "cell_type": "markdown",
   "metadata": {},
   "source": [
    "# we can see that from the sorted data result and the folowing graph,region 8,2,1 has the highest unit sales with product 26 and 41 among these regions, \n",
    "# so the company should take a look on these products in these particular regions for next year's strategy"
   ]
  },
  {
   "cell_type": "code",
   "execution_count": 766,
   "metadata": {},
   "outputs": [
    {
     "data": {
      "image/png": "[encoded data removed]",
      "text/plain": [
       "<Figure size 640x480 with 1 Axes>"
      ]
     },
     "metadata": {},
     "output_type": "display_data"
    }
   ],
   "source": [
    "import matplotlib.pyplot as plt\n",
    "sns.scatterplot(data=df3, x='Region', \n",
    "                          y='Sales',\n",
    "                          hue='Sales',\n",
    "                          palette='Set1', \n",
    "                          size='Sales', \n",
    "                          legend=False)\n",
    "plt.xticks(fontsize=5)\n",
    "plt.show()"
   ]
  },
  {
   "cell_type": "code",
   "execution_count": 730,
   "metadata": {},
   "outputs": [],
   "source": [
    "# This step, I decide to use groupby and sort to fliter the sum of sales in each product and region in a descending order\n",
    "Sales_region = df3.groupby('Region')['Sales'].sum().sort_values(ascending=False).reset_index()"
   ]
  },
  {
   "cell_type": "code",
   "execution_count": 731,
   "metadata": {},
   "outputs": [
    {
     "name": "stdout",
     "output_type": "stream",
     "text": [
      "       Region          Sales\n",
      "0    Region_9  111492.789189\n",
      "1    Region_8  110035.422560\n",
      "2       Other  107388.916921\n",
      "3    Region_4  103397.190952\n",
      "4   Region_10  103280.531378\n",
      "5    Region_2   99475.529972\n",
      "6    Region_5   90497.014271\n",
      "7    Region_1   85832.088944\n",
      "8    Region_3   81091.432190\n",
      "9    Region_6   75016.827505\n",
      "10   Region_7   65209.158919\n"
     ]
    }
   ],
   "source": [
    "print(Sales_region)"
   ]
  },
  {
   "cell_type": "code",
   "execution_count": 716,
   "metadata": {},
   "outputs": [],
   "source": [
    "import matplotlib.pyplot as plt"
   ]
  },
  {
   "cell_type": "code",
   "execution_count": 732,
   "metadata": {},
   "outputs": [
    {
     "data": {
      "text/plain": [
       "<Figure size 1200x1200 with 0 Axes>"
      ]
     },
     "execution_count": 732,
     "metadata": {},
     "output_type": "execute_result"
    },
    {
     "data": {
      "text/plain": [
       "<Figure size 1200x1200 with 0 Axes>"
      ]
     },
     "metadata": {},
     "output_type": "display_data"
    }
   ],
   "source": [
    "plt.figure(figsize=(12, 12)) "
   ]
  },
  {
   "cell_type": "code",
   "execution_count": 733,
   "metadata": {},
   "outputs": [
    {
     "data": {
      "image/png": "[encoded data removed]",
      "text/plain": [
       "<Figure size 640x480 with 1 Axes>"
      ]
     },
     "metadata": {},
     "output_type": "display_data"
    }
   ],
   "source": [
    "plt.pie(Sales_region['Sales'], labels=Sales_region.index, autopct='%1.1f%%')\n",
    "plt.title('Region Sales Distribution')\n",
    "plt.show()"
   ]
  },
  {
   "attachments": {},
   "cell_type": "markdown",
   "metadata": {},
   "source": [
    "from the sorted value and the pie chart, despite the missing data 'Other', we can seperate these regions by 2, which is Top 5 sales regions : Region[ 9,8,4,10,2]\n",
    "Low 5 sales regions:Region[5,1,3,6,7]"
   ]
  },
  {
   "cell_type": "code",
   "execution_count": 678,
   "metadata": {},
   "outputs": [],
   "source": [
    "# Now I will do an analyze to get the top 5 product selling and the lowest 5 producting selling among these two regions"
   ]
  },
  {
   "cell_type": "code",
   "execution_count": 780,
   "metadata": {},
   "outputs": [],
   "source": [
    "top_5 = ['Region_9', 'Region_8','Region_4','Region_10','Region_2','Other'] "
   ]
  },
  {
   "cell_type": "code",
   "execution_count": 781,
   "metadata": {},
   "outputs": [],
   "source": [
    "top5_df2 = df2[df2['Region'].isin(top_5)]"
   ]
  },
  {
   "cell_type": "code",
   "execution_count": 806,
   "metadata": {},
   "outputs": [],
   "source": [
    "top5_df2 = top5_df2.groupby('Product')['Sales'].sum().sort_values(ascending=False).reset_index()"
   ]
  },
  {
   "cell_type": "code",
   "execution_count": 807,
   "metadata": {},
   "outputs": [
    {
     "name": "stdout",
     "output_type": "stream",
     "text": [
      "       Product         Sales\n",
      "0        Other  99530.641405\n",
      "1   Product_30  30696.607686\n",
      "2   Product_31  30068.490000\n",
      "3   Product_14  27109.303356\n",
      "4   Product_50  26807.668951\n",
      "5   Product_40  26715.561780\n",
      "6   Product_35  26528.022307\n",
      "7   Product_29  26522.786195\n",
      "8   Product_41  26154.222000\n",
      "9    Product_7  25740.041087\n",
      "10   Product_2  25523.837857\n",
      "11  Product_45  25477.779261\n",
      "12  Product_26  24353.272727\n",
      "13  Product_48  23675.400000\n",
      "14  Product_20  23191.474165\n",
      "15  Product_34  22590.866151\n",
      "16  Product_23  22156.068261\n",
      "17  Product_16  21980.740588\n",
      "18  Product_19  21510.220000\n",
      "19   Product_1  20935.031236\n",
      "20  Product_33  20861.083783\n",
      "21   Product_4  19974.258257\n",
      "22  Product_49  19213.250000\n",
      "23  Product_13  19176.921168\n",
      "24  Product_39  17606.549210\n",
      "25   Product_5  17566.445484\n",
      "26  Product_25  17436.563103\n",
      "27  Product_22  17412.508361\n",
      "28  Product_46  17118.991643\n",
      "29  Product_15  16897.527243\n",
      "30  Product_24  16678.062306\n",
      "31  Product_44  16217.482242\n",
      "32  Product_17  15501.624710\n",
      "33  Product_37  15497.520609\n",
      "34  Product_43  14953.457123\n",
      "35  Product_21  14325.988354\n",
      "36  Product_28  14273.405956\n",
      "37   Product_8  13789.530801\n",
      "38  Product_42  13421.281486\n",
      "39  Product_27  13344.644341\n",
      "40  Product_12  13339.910000\n",
      "41  Product_47  13012.592807\n",
      "42  Product_32  12902.535000\n",
      "43   Product_9  12209.659178\n",
      "44   Product_6  12051.411617\n",
      "45  Product_10  11786.995168\n",
      "46  Product_11  11214.594976\n",
      "47  Product_36  10229.312469\n",
      "48  Product_18  10095.012020\n",
      "49  Product_38   9109.714372\n",
      "50   Product_3   8230.034000\n"
     ]
    }
   ],
   "source": [
    "print(top5_df2)"
   ]
  },
  {
   "cell_type": "code",
   "execution_count": 799,
   "metadata": {},
   "outputs": [],
   "source": [
    "top5_df22 = top5_df2.groupby('Product')['Sales'].sum().sort_values(ascending=True).reset_index()"
   ]
  },
  {
   "cell_type": "code",
   "execution_count": 800,
   "metadata": {},
   "outputs": [
    {
     "name": "stdout",
     "output_type": "stream",
     "text": [
      "       Product         Sales\n",
      "0    Product_3   8230.034000\n",
      "1   Product_38   9109.714372\n",
      "2   Product_18  10095.012020\n",
      "3   Product_36  10229.312469\n",
      "4   Product_11  11214.594976\n",
      "5   Product_10  11786.995168\n",
      "6    Product_6  12051.411617\n",
      "7    Product_9  12209.659178\n",
      "8   Product_32  12902.535000\n",
      "9   Product_47  13012.592807\n",
      "10  Product_12  13339.910000\n",
      "11  Product_27  13344.644341\n",
      "12  Product_42  13421.281486\n",
      "13   Product_8  13789.530801\n",
      "14  Product_28  14273.405956\n",
      "15  Product_21  14325.988354\n",
      "16  Product_43  14953.457123\n",
      "17  Product_37  15497.520609\n",
      "18  Product_17  15501.624710\n",
      "19  Product_44  16217.482242\n",
      "20  Product_24  16678.062306\n",
      "21  Product_15  16897.527243\n",
      "22  Product_46  17118.991643\n",
      "23  Product_22  17412.508361\n",
      "24  Product_25  17436.563103\n",
      "25   Product_5  17566.445484\n",
      "26  Product_39  17606.549210\n",
      "27  Product_13  19176.921168\n",
      "28  Product_49  19213.250000\n",
      "29   Product_4  19974.258257\n",
      "30  Product_33  20861.083783\n",
      "31   Product_1  20935.031236\n",
      "32  Product_19  21510.220000\n",
      "33  Product_16  21980.740588\n",
      "34  Product_23  22156.068261\n",
      "35  Product_34  22590.866151\n",
      "36  Product_20  23191.474165\n",
      "37  Product_48  23675.400000\n",
      "38  Product_26  24353.272727\n",
      "39  Product_45  25477.779261\n",
      "40   Product_2  25523.837857\n",
      "41   Product_7  25740.041087\n",
      "42  Product_41  26154.222000\n",
      "43  Product_29  26522.786195\n",
      "44  Product_35  26528.022307\n",
      "45  Product_40  26715.561780\n",
      "46  Product_50  26807.668951\n",
      "47  Product_14  27109.303356\n",
      "48  Product_31  30068.490000\n",
      "49  Product_30  30696.607686\n",
      "50       Other  99530.641405\n"
     ]
    }
   ],
   "source": [
    "print(top5_df22)"
   ]
  },
  {
   "cell_type": "code",
   "execution_count": 804,
   "metadata": {},
   "outputs": [],
   "source": [
    "top_products = top5_df2.groupby('Product')['Sales'].max()"
   ]
  },
  {
   "cell_type": "code",
   "execution_count": 803,
   "metadata": {},
   "outputs": [
    {
     "data": {
      "image/png": "[encoded data removed]",
      "text/plain": [
       "<Figure size 640x480 with 1 Axes>"
      ]
     },
     "metadata": {},
     "output_type": "display_data"
    }
   ],
   "source": [
    "top_products_df = top_products.reset_index()\n",
    "\n",
    "sns.scatterplot(data=top_products_df, x='Product',\n",
    "                                      y='Sales', \n",
    "                                      hue='Sales',\n",
    "                                      palette='Set1', \n",
    "                                      size='Sales',\n",
    "                                     legend=False)\n",
    "plt.xticks(fontsize=4)\n",
    "plt.xticks(rotation=80)\n",
    "plt.title('Top Products by Max Sales')\n",
    "plt.show()"
   ]
  },
  {
   "attachments": {},
   "cell_type": "markdown",
   "metadata": {},
   "source": [
    "From this graph and the sorted sum value, we can see that, despite the 'Other' missing value, product['30','31','14','50','40'] indicated a really good performance\n",
    "among those 5 regions, on the opposite, product['3','38','18','36','11'] indicate a not very good performance"
   ]
  },
  {
   "cell_type": "code",
   "execution_count": 796,
   "metadata": {},
   "outputs": [],
   "source": [
    "# for the lowest selling part\n",
    "low_5 = ['Region_5', 'Region_7','Region_3','Region_6','Region_1'] "
   ]
  },
  {
   "cell_type": "code",
   "execution_count": 792,
   "metadata": {},
   "outputs": [],
   "source": [
    "low_df2 = df2[df2['Region'].isin(low_5)]"
   ]
  },
  {
   "cell_type": "code",
   "execution_count": 797,
   "metadata": {},
   "outputs": [],
   "source": [
    "low5_df2 = low_df2.groupby('Product')['Sales'].sum().sort_values(ascending=False).reset_index()"
   ]
  },
  {
   "cell_type": "code",
   "execution_count": 808,
   "metadata": {},
   "outputs": [
    {
     "name": "stdout",
     "output_type": "stream",
     "text": [
      "       Product         Sales\n",
      "0        Other  44917.970046\n",
      "1   Product_41  20576.566000\n",
      "2   Product_30  15782.404727\n",
      "3   Product_20  13953.185833\n",
      "4   Product_35  11945.221057\n",
      "5   Product_14  11566.410022\n",
      "6   Product_40  11495.106218\n",
      "7   Product_48  10907.430000\n",
      "8   Product_31   9651.670000\n",
      "9   Product_15   9617.925714\n",
      "10  Product_29   9529.100578\n",
      "11  Product_43   9066.981123\n",
      "12  Product_19   9013.950000\n",
      "13   Product_1   8743.031429\n",
      "14  Product_46   8610.278750\n",
      "15  Product_11   8018.213048\n",
      "16   Product_9   7807.515630\n",
      "17   Product_6   7423.073711\n",
      "18  Product_17   7339.494710\n",
      "19  Product_13   7177.889410\n",
      "20  Product_49   6910.060000\n",
      "21  Product_28   6833.285956\n",
      "22  Product_16   6618.080588\n",
      "23  Product_18   6592.003077\n",
      "24   Product_5   6572.742002\n",
      "25  Product_44   6410.148571\n",
      "26  Product_21   6396.247119\n",
      "27  Product_45   6295.808053\n",
      "28  Product_47   6287.681516\n",
      "29   Product_2   6216.589375\n",
      "30  Product_39   6149.468988\n",
      "31  Product_50   6082.499844\n",
      "32  Product_25   5974.370000\n",
      "33  Product_10   5969.368571\n",
      "34  Product_34   5703.796151\n",
      "35  Product_23   5486.488261\n",
      "36   Product_7   5252.518571\n",
      "37  Product_24   5220.910000\n",
      "38  Product_36   5113.262469\n",
      "39  Product_33   4852.060033\n",
      "40  Product_27   4764.632198\n",
      "41  Product_32   4543.385000\n",
      "42   Product_4   3871.197731\n",
      "43  Product_42   3812.797500\n",
      "44   Product_8   3280.730000\n",
      "45  Product_37   3221.182222\n",
      "46  Product_12   3132.540000\n",
      "47  Product_22   2712.906385\n",
      "48  Product_26   2551.842727\n",
      "49  Product_38   1621.790912\n",
      "50   Product_3     52.710000\n"
     ]
    }
   ],
   "source": [
    "print(low5_df2)"
   ]
  },
  {
   "cell_type": "code",
   "execution_count": 813,
   "metadata": {},
   "outputs": [],
   "source": [
    "low5_df22 = low_df2.groupby('Product')['Sales'].sum().sort_values(ascending=True).reset_index()"
   ]
  },
  {
   "cell_type": "code",
   "execution_count": 814,
   "metadata": {},
   "outputs": [
    {
     "name": "stdout",
     "output_type": "stream",
     "text": [
      "       Product         Sales\n",
      "0    Product_3     52.710000\n",
      "1   Product_38   1621.790912\n",
      "2   Product_26   2551.842727\n",
      "3   Product_22   2712.906385\n",
      "4   Product_12   3132.540000\n",
      "5   Product_37   3221.182222\n",
      "6    Product_8   3280.730000\n",
      "7   Product_42   3812.797500\n",
      "8    Product_4   3871.197731\n",
      "9   Product_32   4543.385000\n",
      "10  Product_27   4764.632198\n",
      "11  Product_33   4852.060033\n",
      "12  Product_36   5113.262469\n",
      "13  Product_24   5220.910000\n",
      "14   Product_7   5252.518571\n",
      "15  Product_23   5486.488261\n",
      "16  Product_34   5703.796151\n",
      "17  Product_10   5969.368571\n",
      "18  Product_25   5974.370000\n",
      "19  Product_50   6082.499844\n",
      "20  Product_39   6149.468988\n",
      "21   Product_2   6216.589375\n",
      "22  Product_47   6287.681516\n",
      "23  Product_45   6295.808053\n",
      "24  Product_21   6396.247119\n",
      "25  Product_44   6410.148571\n",
      "26   Product_5   6572.742002\n",
      "27  Product_18   6592.003077\n",
      "28  Product_16   6618.080588\n",
      "29  Product_28   6833.285956\n",
      "30  Product_49   6910.060000\n",
      "31  Product_13   7177.889410\n",
      "32  Product_17   7339.494710\n",
      "33   Product_6   7423.073711\n",
      "34   Product_9   7807.515630\n",
      "35  Product_11   8018.213048\n",
      "36  Product_46   8610.278750\n",
      "37   Product_1   8743.031429\n",
      "38  Product_19   9013.950000\n",
      "39  Product_43   9066.981123\n",
      "40  Product_29   9529.100578\n",
      "41  Product_15   9617.925714\n",
      "42  Product_31   9651.670000\n",
      "43  Product_48  10907.430000\n",
      "44  Product_40  11495.106218\n",
      "45  Product_14  11566.410022\n",
      "46  Product_35  11945.221057\n",
      "47  Product_20  13953.185833\n",
      "48  Product_30  15782.404727\n",
      "49  Product_41  20576.566000\n",
      "50       Other  44917.970046\n"
     ]
    }
   ],
   "source": [
    "print(low5_df22)"
   ]
  },
  {
   "cell_type": "code",
   "execution_count": 812,
   "metadata": {},
   "outputs": [
    {
     "data": {
      "image/png": "[encoded data removed]",
      "text/plain": [
       "<Figure size 640x480 with 1 Axes>"
      ]
     },
     "metadata": {},
     "output_type": "display_data"
    }
   ],
   "source": [
    "top_products = low5_df2.groupby('Product')['Sales'].max()\n",
    "\n",
    "sns.scatterplot(data=top_products_df, x='Product',\n",
    "                                      y='Sales', \n",
    "                                      hue='Sales',\n",
    "                                      palette='Set1', \n",
    "                                      size='Sales',\n",
    "                                     legend=False)\n",
    "plt.xticks(fontsize=4)\n",
    "plt.xticks(rotation=80)\n",
    "plt.title('Top Products by Max Sales')\n",
    "plt.show()"
   ]
  },
  {
   "attachments": {},
   "cell_type": "markdown",
   "metadata": {},
   "source": [
    "From this graph and the sorted sum value, we can see that, despite the 'Other' missing value, product['41','30','20','35','14'] indicated a really good performance\n",
    "among those 5 regions, on the opposite, product['3','38','26','22','12'] indicate a not very good performance"
   ]
  },
  {
   "attachments": {},
   "cell_type": "markdown",
   "metadata": {},
   "source": [
    "Final Summary"
   ]
  },
  {
   "attachments": {},
   "cell_type": "markdown",
   "metadata": {},
   "source": [
    "1) What conclusions can you draw about sales performance of various products and regions?\n",
    "\n",
    "Based on my analysis, I can conclude that, Among those regions, Region ['9', '8', '4', '10', '2', 'Other'] has the relatively higher total product sales amount in a descending orde compare to Region['5', '7', '3', '6', '1'].\n",
    "For the product part, Product['30', '31', '14', '50','40'] made a very good performance in the Region ['9', '8', '4', '10', '2', 'Other'], on the opposite, product['3', '38', '18', '36','11'] did a relatively bad performance in these regions. Product['41', '30', '20', '35', '14']indicated a really good performance in the region['5', '7', '3', '6', '1'], Product['3', '38', '26', '22', '12']did a relatively bad performance in these regions."
   ]
  },
  {
   "attachments": {},
   "cell_type": "markdown",
   "metadata": {},
   "source": [
    "2) What recommendations do you have for the business?\n",
    "\n",
    "Based on my prior answer, I will suggest the enterprise increase the selling of products ['30', '31', '14', '50','40'] in Region['9', '8', '4', '10', '2', 'Other'], because they denote a relatively high performance among all products selling in these regions, which represent a high sales. Also, Region['9', '8', '4', '10', '2', 'Other'] plays a high performance with relatively large total product sales among the entire regions, denoting that they have high potential to attract more product selling in the next session, so the enterprise should focus on increasing the sales of these products. Vice versa, because Product['3', '38', '18', '36','11']  denotes a relatively low performance among all products selling in these regions, represents low sales, the enterprise can decide to reduce the selling of these products for better performance in these regions.\n",
    "\n",
    "For Region ['5', '7', '3', '6', '1'], because they did not perform so well in their total product selling, the enterprise should enhance their performance by increasing the selling of Product['41', '30', '20', '35', '14] for next section because they denote high sales. On the opposite, it should reduce the supply of Product ['3', '38', '26', '22','12'] for the next section which denotes low sales.\n",
    "\n"
   ]
  },
  {
   "attachments": {},
   "cell_type": "markdown",
   "metadata": {},
   "source": [
    "3) Describe your data cleaning approach. How and why did you decide on which cleaning techniques to use?\n",
    "\n"
   ]
  }
 ],
 "metadata": {
  "kernelspec": {
   "display_name": "Python 3",
   "language": "python",
   "name": "python3"
  },
  "language_info": {
   "codemirror_mode": {
    "name": "ipython",
    "version": 3
   },
   "file_extension": ".py",
   "mimetype": "text/x-python",
   "name": "python",
   "nbconvert_exporter": "python",
   "pygments_lexer": "ipython3",
   "version": "3.11.1"
  },
  "orig_nbformat": 4
 },
 "nbformat": 4,
 "nbformat_minor": 2
}
